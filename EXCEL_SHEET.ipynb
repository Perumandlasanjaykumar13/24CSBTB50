{
  "nbformat": 4,
  "nbformat_minor": 0,
  "metadata": {
    "colab": {
      "provenance": [],
      "authorship_tag": "ABX9TyNNlKUf3QdPb1S6ThgsUM8v",
      "include_colab_link": true
    },
    "kernelspec": {
      "name": "python3",
      "display_name": "Python 3"
    },
    "language_info": {
      "name": "python"
    }
  },
  "cells": [
    {
      "cell_type": "markdown",
      "metadata": {
        "id": "view-in-github",
        "colab_type": "text"
      },
      "source": [
        "<a href=\"https://colab.research.google.com/github/Perumandlasanjaykumar13/24CSBTB50/blob/main/EXCEL_SHEET.ipynb\" target=\"_parent\"><img src=\"https://colab.research.google.com/assets/colab-badge.svg\" alt=\"Open In Colab\"/></a>"
      ]
    },
    {
      "cell_type": "code",
      "execution_count": 16,
      "metadata": {
        "colab": {
          "base_uri": "https://localhost:8080/"
        },
        "id": "fJa6eHAz1dlM",
        "outputId": "b73eaac1-d93e-4b2a-b9c4-0fa1d00230cf"
      },
      "outputs": [
        {
          "output_type": "stream",
          "name": "stdout",
          "text": [
            "      age  sex  cp  trestbps  chol  fbs  restecg  thalach  exang  oldpeak  \\\n",
            "0      52    1   0       125   212    0        1      168      0      1.0   \n",
            "1      53    1   0       140   203    1        0      155      1      3.1   \n",
            "2      70    1   0       145   174    0        1      125      1      2.6   \n",
            "3      61    1   0       148   203    0        1      161      0      0.0   \n",
            "4      62    0   0       138   294    1        1      106      0      1.9   \n",
            "...   ...  ...  ..       ...   ...  ...      ...      ...    ...      ...   \n",
            "1020   59    1   1       140   221    0        1      164      1      0.0   \n",
            "1021   60    1   0       125   258    0        0      141      1      2.8   \n",
            "1022   47    1   0       110   275    0        0      118      1      1.0   \n",
            "1023   50    0   0       110   254    0        0      159      0      0.0   \n",
            "1024   54    1   0       120   188    0        1      113      0      1.4   \n",
            "\n",
            "      slope  ca  thal  target  \n",
            "0         2   2     3       0  \n",
            "1         0   0     3       0  \n",
            "2         0   0     3       0  \n",
            "3         2   1     3       0  \n",
            "4         1   3     2       0  \n",
            "...     ...  ..   ...     ...  \n",
            "1020      2   0     2       1  \n",
            "1021      1   1     3       0  \n",
            "1022      1   1     2       0  \n",
            "1023      2   0     2       1  \n",
            "1024      1   1     3       0  \n",
            "\n",
            "[1025 rows x 14 columns]\n"
          ]
        }
      ],
      "source": [
        "import pandas as pd\n",
        "data = pd.read_csv(\"/content/heart.csv\")\n",
        "print(data)\n"
      ]
    },
    {
      "cell_type": "code",
      "source": [
        "import pandas as pd\n",
        "data = pd.read_csv(\"/content/games_dataset.csv\")\n",
        "print(data)\n"
      ],
      "metadata": {
        "colab": {
          "base_uri": "https://localhost:8080/"
        },
        "id": "5ureCw97Iy9Q",
        "outputId": "acced4e0-5f82-4638-c0b5-634dda706197"
      },
      "execution_count": 17,
      "outputs": [
        {
          "output_type": "stream",
          "name": "stdout",
          "text": [
            "                                    Game Name       Genre         Platform  \\\n",
            "0                   Sekiro: Shadows Die Twice      Sports  Nintendo Switch   \n",
            "1                                     Control      Puzzle  Nintendo Switch   \n",
            "2                                    Among Us    Strategy  Nintendo Switch   \n",
            "3                Call of Duty: Modern Warfare     Stealth      PlayStation   \n",
            "4                           League of Legends  Simulation               PC   \n",
            "...                                       ...         ...              ...   \n",
            "4995  The Legend of Zelda: Breath of the Wild      Sports               PC   \n",
            "4996                Assassin's Creed Valhalla     Stealth           Mobile   \n",
            "4997             Fall Guys: Ultimate Knockout      Sports           Mobile   \n",
            "4998                            Borderlands 3  Platformer             Xbox   \n",
            "4999         Counter-Strike: Global Offensive      Action      PlayStation   \n",
            "\n",
            "      Release Year  User Rating  \n",
            "0             2014     9.654719  \n",
            "1             2000     3.457386  \n",
            "2             2007     5.367622  \n",
            "3             2005     1.240325  \n",
            "4             2021     3.535476  \n",
            "...            ...          ...  \n",
            "4995          2013     6.352838  \n",
            "4996          2020     1.852730  \n",
            "4997          2021     5.268067  \n",
            "4998          2018     4.558510  \n",
            "4999          2022     3.443231  \n",
            "\n",
            "[5000 rows x 5 columns]\n"
          ]
        }
      ]
    }
  ]
}